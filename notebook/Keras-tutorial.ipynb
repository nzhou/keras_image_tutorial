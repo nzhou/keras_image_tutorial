{
 "cells": [
  {
   "cell_type": "markdown",
   "metadata": {},
   "source": [
    "<b>Welcome to the Image Transfer Learning tutorial!</b>\n",
    "\n",
    "Today you will try out one of the most cutting-edge image recognition models in the industry and train some of your own as well. \n",
    "\n",
    "This tutorial is adapted from the examples at https://keras.io/applications/. You can find out more after the session."
   ]
  },
  {
   "cell_type": "markdown",
   "metadata": {},
   "source": [
    "If you are not using the docker image we provide, let's first install the packages we need."
   ]
  },
  {
   "cell_type": "code",
   "execution_count": null,
   "metadata": {},
   "outputs": [],
   "source": [
    "# We use Keras with the Tensforflow backend to train the models. \n",
    "# If pip doesn't work well for you, please install Anaconda and use conda to install tensorflow instead.\n",
    "!pip install tensorflow\n",
    "!pip install keras"
   ]
  },
  {
   "cell_type": "code",
   "execution_count": null,
   "metadata": {},
   "outputs": [],
   "source": [
    "from matplotlib.pyplot import imshow\n",
    "from imageio import imread\n",
    "import numpy as np\n",
    "import tensorflow as tf"
   ]
  },
  {
   "attachments": {
    "directory.png": {
     "image/png": "[encoded data removed]"
    }
   },
   "cell_type": "markdown",
   "metadata": {},
   "source": [
    "Download the data from http://download.tensorflow.org/example_images/flower_photos.tgz with the following command: <br>\n",
    "`curl -LO http://download.tensorflow.org/example_images/flower_photos.tgz` <br>\n",
    "And then, please decompress it to the path `data/flower_photos/train`. Note that this will take a while. If you use the docker image we provide, the data should have already been downloaded and extracted for you. Please go to `data/flower_photos/train` to make sure the data is organized correctly like the following, each class with its own subcategory. :\n",
    "![directory.png](attachment:directory.png)\n",
    "In the 'data/flower_photos/train' folder, you can put any images you like to test the models you will train today."
   ]
  },
  {
   "cell_type": "markdown",
   "metadata": {},
   "source": [
    "We first define the parameters for training. We have already talked about them in the presentation just now. Do you recognize them?"
   ]
  },
  {
   "cell_type": "code",
   "execution_count": null,
   "metadata": {},
   "outputs": [],
   "source": [
    "# dimensions of our images. \n",
    "img_width, img_height = 224, 224 \n",
    "# If you put the ta in a different path from what is shown above, you should change the path here as well.\n",
    "train_data_dir = '../data/flower_photos/train' \n",
    "epochs = 5 # about 3-5 min per epoch on cpu without multi-threading\n",
    "batch_size = 32\n",
    "steps_per_epoch = 25\n",
    "val_step = 3"
   ]
  },
  {
   "cell_type": "markdown",
   "metadata": {},
   "source": [
    "To make the results easier to read, we provide a helper function to map the scores to the class names."
   ]
  },
  {
   "cell_type": "code",
   "execution_count": null,
   "metadata": {},
   "outputs": [],
   "source": [
    "class_names = ['rose', 'tulip', 'daisy', 'dandelion', 'sunflower']\n",
    "class_names = sorted(class_names) # Sorting them\n",
    "\n",
    "def prob_to_class(class_names, probs):\n",
    "    return dict(zip(class_names, probs.ravel().tolist()))"
   ]
  },
  {
   "cell_type": "markdown",
   "metadata": {},
   "source": [
    "<b>Exercise 1: Play with the original Inception v3 model from Google </b>"
   ]
  },
  {
   "cell_type": "code",
   "execution_count": null,
   "metadata": {},
   "outputs": [],
   "source": [
    "#load the full InceptionV3 model\n",
    "from keras.applications.inception_v3 import InceptionV3\n",
    "\n",
    "model = InceptionV3(weights='imagenet', include_top=True)"
   ]
  },
  {
   "cell_type": "markdown",
   "metadata": {},
   "source": [
    "We provide a helper function to make it easier to test on one image. Can you tell what the function does before calling `model.predict()` to calculate the results?"
   ]
  },
  {
   "cell_type": "code",
   "execution_count": null,
   "metadata": {},
   "outputs": [],
   "source": [
    "#test on one image\n",
    "from keras.preprocessing import image\n",
    "from keras.applications.inception_v3 import preprocess_input\n",
    "\n",
    "def test_one_image(img_path, target_w, target_h, model):\n",
    "    img = image.load_img(img_path, target_size=(target_w, target_h))\n",
    "    x = image.img_to_array(img)\n",
    "    x = np.expand_dims(x, axis=0)\n",
    "    x = preprocess_input(x)\n",
    "\n",
    "    preds = model.predict(x)\n",
    "    return preds"
   ]
  },
  {
   "cell_type": "markdown",
   "metadata": {},
   "source": [
    "Let's test the model on a daisy image we found on the Internet. It worked!"
   ]
  },
  {
   "cell_type": "code",
   "execution_count": null,
   "metadata": {},
   "outputs": [],
   "source": [
    "from keras.applications.imagenet_utils import decode_predictions\n",
    "\n",
    "test_image = '../data/flower_photos/test/1.jpg'\n",
    "imshow(imread(test_image))\n",
    "result = test_one_image(test_image, img_width, img_height, model)\n",
    "print('Predicted:', decode_predictions(result))"
   ]
  },
  {
   "cell_type": "markdown",
   "metadata": {},
   "source": [
    "Now it's your turn! Test an image you select with the model to see if it works."
   ]
  },
  {
   "cell_type": "code",
   "execution_count": null,
   "metadata": {},
   "outputs": [],
   "source": [
    "# Your code here"
   ]
  },
  {
   "cell_type": "markdown",
   "metadata": {},
   "source": [
    "<b>Exercise 2: Use transfer learning to retrain the model for flowers</b>\n",
    "\n",
    "You probably have noticed that the Inception model covers many different classes, but it doesn't include many detailed classes about flowers. This is because it is trained with the ImageNet data, which consists of over 14 million images in 21841 classes. It also includes 462 classes of different flowers, but the accuracy is not always that great. Now we will use the data we downloaded to see if we can train a different model with transfer learning to achieve a better accuracy on the 5 types of flowers that we are particularly interested in. "
   ]
  },
  {
   "cell_type": "code",
   "execution_count": null,
   "metadata": {},
   "outputs": [],
   "source": [
    "# create the base pre-trained model\n",
    "from keras.layers import Input, Dense, GlobalAveragePooling2D\n",
    "\n",
    "base_model = InceptionV3(include_top=False, weights='imagenet')\n",
    "\n",
    "# add a global spatial average pooling layer\n",
    "x = base_model.output\n",
    "x = GlobalAveragePooling2D()(x)\n",
    "# let's add a fully-connected layer\n",
    "x = Dense(1024, activation='relu')(x)\n",
    "# and a logistic layer -- let's say we have 5 classes\n",
    "predictions = Dense(5, activation='softmax')(x)"
   ]
  },
  {
   "cell_type": "code",
   "execution_count": null,
   "metadata": {},
   "outputs": [],
   "source": [
    "# prepare training and validation dataset\n",
    "from keras.preprocessing.image import ImageDataGenerator\n",
    "\n",
    "datagen = ImageDataGenerator(preprocessing_function = preprocess_input, validation_split = 0.2)\n",
    "\n",
    "train_generator = datagen.flow_from_directory(\n",
    "    train_data_dir,  # this is where the data is\n",
    "    target_size=(img_width, img_height),  # all images will be resized\n",
    "    batch_size=batch_size,\n",
    "    class_mode='categorical',\n",
    "    subset='training',\n",
    "    shuffle=True\n",
    ")\n",
    "\n",
    "val_generator = datagen.flow_from_directory(\n",
    "    train_data_dir,  # this is where the data is\n",
    "    target_size=(img_width, img_height),  # all images will be resized\n",
    "    batch_size=batch_size,\n",
    "    class_mode='categorical',\n",
    "    subset='validation',\n",
    "    shuffle=True\n",
    ")"
   ]
  },
  {
   "cell_type": "code",
   "execution_count": null,
   "metadata": {},
   "outputs": [],
   "source": [
    "# this is the model we will train\n",
    "from keras.models import Model\n",
    "from keras.callbacks import EarlyStopping, TensorBoard\n",
    "from keras import metrics\n",
    "\n",
    "new_model = Model(inputs=base_model.input, outputs=predictions)\n",
    "\n",
    "# first: train only the top layers (which were randomly initialized)\n",
    "# i.e. freeze all convolutional InceptionV3 layers\n",
    "for layer in base_model.layers:\n",
    "    layer.trainable = False\n",
    "\n",
    "# compile the model (should be done *after* setting layers to non-trainable)\n",
    "new_model.compile(optimizer='rmsprop', loss='categorical_crossentropy', \n",
    "                  metrics=[metrics.mae, metrics.categorical_accuracy])\n",
    "\n",
    "callbacks = [EarlyStopping(monitor='val_loss', min_delta=0, patience=1, verbose=0, mode='auto'), \n",
    "             TensorBoard(log_dir='./logs', histogram_freq=0, write_graph=True, write_images=False)]\n",
    "\n",
    "# train the model on the new data for a few epochs\n",
    "history = new_model.fit_generator(train_generator, steps_per_epoch=steps_per_epoch, epochs=epochs, \n",
    "                                  callbacks=callbacks, verbose=1,\n",
    "                                  validation_data=val_generator, validation_steps=val_step)\n",
    "\n",
    "new_model.save_weights('first_try.h5')  # always save your weights after training or during training\n"
   ]
  },
  {
   "cell_type": "markdown",
   "metadata": {},
   "source": [
    "The training will take a while. We can use tensorboard --logdir=./logs to visualize the training process. It seems that it starts to overfit around epoch 3. We can enable early stopping."
   ]
  },
  {
   "cell_type": "code",
   "execution_count": null,
   "metadata": {},
   "outputs": [],
   "source": [
    "import matplotlib.pyplot as plt\n",
    "\n",
    "# Plot training & validation accuracy values\n",
    "plt.plot(history.history['categorical_accuracy'])\n",
    "plt.plot(history.history['val_categorical_accuracy'])\n",
    "plt.title('Model accuracy')\n",
    "plt.ylabel('Accuracy')\n",
    "plt.xlabel('Epoch')\n",
    "plt.legend(['Train', 'Validation'], loc='upper left')\n",
    "plt.show()\n",
    "\n",
    "# Plot training & validation loss values\n",
    "plt.plot(history.history['loss'])\n",
    "plt.plot(history.history['val_loss'])\n",
    "plt.title('Model loss')\n",
    "plt.ylabel('Loss')\n",
    "plt.xlabel('Epoch')\n",
    "plt.legend(['Train', 'Validation'], loc='upper left')\n",
    "plt.show()"
   ]
  },
  {
   "cell_type": "markdown",
   "metadata": {},
   "source": [
    "Now it's the time to test our model! Does it work better than the original Inception model on the flowers we are interested in?"
   ]
  },
  {
   "cell_type": "code",
   "execution_count": null,
   "metadata": {},
   "outputs": [],
   "source": [
    "test_image = '../data/flower_photos/test/2.jpg'\n",
    "imshow(imread(test_image))\n",
    "result = test_one_image(test_image, img_width, img_height, new_model)\n",
    "print('Predicted:', prob_to_class(class_names, result))"
   ]
  },
  {
   "cell_type": "code",
   "execution_count": null,
   "metadata": {},
   "outputs": [],
   "source": [
    "# Your code here to test more images."
   ]
  },
  {
   "cell_type": "markdown",
   "metadata": {
    "collapsed": true
   },
   "source": [
    "<b>Exercise 3: Fine tue the model </b>\n",
    "\n",
    "It seems that the model doesn't perform that well. This is because we are only training the last layer. Now we will fine tune more layers to select the most suitable features for our purpose."
   ]
  },
  {
   "cell_type": "code",
   "execution_count": null,
   "metadata": {},
   "outputs": [],
   "source": [
    "# At this point, the top layers are well trained and we can start fine-tuning convolutional layers from inception V3. \n",
    "# We will freeze the bottom N layers and train the remaining top layers.\n",
    "\n",
    "fine_tune_model = Model(inputs=base_model.input, outputs=predictions)\n",
    "\n",
    "# let's visualize layer names and layer indices to see how many layers\n",
    "# we should freeze:\n",
    "for i, layer in enumerate(base_model.layers):\n",
    "   print(i, layer.name)"
   ]
  },
  {
   "cell_type": "code",
   "execution_count": null,
   "metadata": {},
   "outputs": [],
   "source": [
    "# we chose to train the top 2 inception blocks, i.e. we will freeze the first 172 layers and unfreeze the rest:\n",
    "layer_split_idx = 172\n",
    "\n",
    "for layer in fine_tune_model.layers[:layer_split_idx]:\n",
    "   layer.trainable = False\n",
    "for layer in fine_tune_model.layers[layer_split_idx:]:\n",
    "   layer.trainable = True\n",
    "\n",
    "# we need to recompile the model for these modifications to take effect\n",
    "# we use SGD with a low learning rate\n",
    "from keras.optimizers import SGD\n",
    "\n",
    "fine_tune_model.compile(optimizer=SGD(lr=0.0001, momentum=0.9), loss='categorical_crossentropy',\n",
    "                        metrics=[metrics.mae, metrics.categorical_accuracy])\n",
    "\n",
    "# we train our model again (this time fine-tuning the top 2 inception blocks alongside the top Dense layers\n",
    "history2 = fine_tune_model.fit_generator(train_generator, steps_per_epoch=steps_per_epoch, epochs=epochs, \n",
    "                                         callbacks=callbacks, verbose=1,\n",
    "                                         validation_data=val_generator, validation_steps=val_step)\n",
    "\n",
    "fine_tune_model.save_weights('fine_tune.h5')  # save your weights after training\n",
    "\n",
    "# The training will be slower than the process one, because we train much more layers therefore much more parameters. "
   ]
  },
  {
   "cell_type": "code",
   "execution_count": null,
   "metadata": {},
   "outputs": [],
   "source": [
    "# Plot training & validation accuracy values\n",
    "plt.plot(history2.history['categorical_accuracy'])\n",
    "plt.plot(history2.history['val_categorical_accuracy'])\n",
    "plt.title('Model accuracy')\n",
    "plt.ylabel('Accuracy')\n",
    "plt.xlabel('Epoch')\n",
    "plt.legend(['Train', 'Validation'], loc='upper left')\n",
    "plt.show()\n",
    "\n",
    "# Plot training & validation loss values\n",
    "plt.plot(history2.history['loss'])\n",
    "plt.plot(history2.history['val_loss'])\n",
    "plt.title('Model loss')\n",
    "plt.ylabel('Loss')\n",
    "plt.xlabel('Epoch')\n",
    "plt.legend(['Train', 'Validation'], loc='upper left')\n",
    "plt.show()"
   ]
  },
  {
   "cell_type": "markdown",
   "metadata": {},
   "source": [
    "Now let's test the fine-tuned model."
   ]
  },
  {
   "cell_type": "code",
   "execution_count": null,
   "metadata": {},
   "outputs": [],
   "source": [
    "test_image = '../data/flower_photos/test/2.jpg'\n",
    "imshow(imread(test_image))\n",
    "result = test_one_image(test_image, img_width, img_height, fine_tune_model)\n",
    "print('Predicted:', prob_to_class(class_names, result))"
   ]
  },
  {
   "cell_type": "code",
   "execution_count": null,
   "metadata": {},
   "outputs": [],
   "source": [
    "# Your code here to test more images."
   ]
  },
  {
   "cell_type": "code",
   "execution_count": null,
   "metadata": {},
   "outputs": [],
   "source": [
    "from keras.utils import print_summary\n",
    "print_summary(fine_tune_model)"
   ]
  },
  {
   "cell_type": "markdown",
   "metadata": {},
   "source": [
    "<b>Optional Exercise: Visualize the model</b>\n",
    "\n",
    "Using Pydot and GraphViz, we can generate an illustration of the model structure. The installation of GraphViz needs some manual set-up. "
   ]
  },
  {
   "cell_type": "code",
   "execution_count": null,
   "metadata": {},
   "outputs": [],
   "source": [
    "# We use pydot and graphviz for visualizing the model structure.\n",
    "!pip install pydot\n",
    "!pip install graphviz\n",
    "\n",
    "# Add the GraphViz path to the system path\n",
    "import os\n",
    "\n",
    "# This is the default path for windows. You need to change the path for Mac.\n",
    "os.environ[\"PATH\"] += os.pathsep + 'C:/Program Files (x86)/Graphviz2.38/bin/'"
   ]
  },
  {
   "cell_type": "markdown",
   "metadata": {},
   "source": [
    "The next cell will plot the model structure out for your reference. Isn't it a deep model?! "
   ]
  },
  {
   "cell_type": "code",
   "execution_count": null,
   "metadata": {},
   "outputs": [],
   "source": [
    "from IPython.display import SVG\n",
    "from keras.utils.vis_utils import model_to_dot\n",
    "from keras.utils import plot_model\n",
    "\n",
    "plot_model(model, to_file='model.png')\n",
    "SVG(model_to_dot(model).create(prog='dot', format='svg'))"
   ]
  },
  {
   "cell_type": "markdown",
   "metadata": {},
   "source": [
    "<b>Optional Exercise: Train with a different dataset</b>\n",
    "\n",
    "Congratulations! You have learned how to train a deep neural network for image recognition with transfer learning. Now you can use the similar method to trian on your own dataset. Here are some open datasets available online:\n",
    "* Stanford dogs: http://vision.stanford.edu/aditya86/ImageNetDogs/\n",
    "* Lego pieces: https://www.kaggle.com/joosthazelzet/lego-brick-images\n",
    "* CIFAR-10: https://www.cs.toronto.edu/~kriz/cifar.html\n",
    "\n",
    "Note that different datasets may have different folder structures. You should modify the data generator accordingly (or modify how the data is stored accordingly) to make it work."
   ]
  },
  {
   "cell_type": "code",
   "execution_count": null,
   "metadata": {},
   "outputs": [],
   "source": [
    "# Your code here."
   ]
  },
  {
   "cell_type": "markdown",
   "metadata": {},
   "source": [
    "<b>Optional Exercise: Change the training parameters</b>\n",
    "\n",
    "Can you use different parameters to train the model, so that the result is better and/or faster? Here are some ideas:\n",
    "* how many data is reserved for validation\n",
    "* how many layers to freeze\n",
    "* a different optimizer such as RMSprop or Adam\n",
    "* different learning rate"
   ]
  },
  {
   "cell_type": "code",
   "execution_count": null,
   "metadata": {},
   "outputs": [],
   "source": [
    "# Your code here"
   ]
  },
  {
   "cell_type": "code",
   "execution_count": null,
   "metadata": {},
   "outputs": [],
   "source": []
  }
 ],
 "metadata": {
  "kernelspec": {
   "display_name": "Python 3",
   "language": "python",
   "name": "python3"
  },
  "language_info": {
   "codemirror_mode": {
    "name": "ipython",
    "version": 3
   },
   "file_extension": ".py",
   "mimetype": "text/x-python",
   "name": "python",
   "nbconvert_exporter": "python",
   "pygments_lexer": "ipython3",
   "version": "3.5.2"
  }
 },
 "nbformat": 4,
 "nbformat_minor": 2
}
